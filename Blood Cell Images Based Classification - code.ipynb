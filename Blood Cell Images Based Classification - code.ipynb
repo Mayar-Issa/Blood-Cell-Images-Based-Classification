{
 "cells": [
  {
   "cell_type": "code",
   "execution_count": 3,
   "id": "d23f51a0",
   "metadata": {},
   "outputs": [
    {
     "name": "stdout",
     "output_type": "stream",
     "text": [
      "Collecting seaborn\n",
      "  Using cached seaborn-0.13.2-py3-none-any.whl (294 kB)\n",
      "Requirement already satisfied: matplotlib!=3.6.1,>=3.4 in c:\\users\\ntc\\appdata\\local\\programs\\python\\python39\\lib\\site-packages (from seaborn) (3.9.4)\n",
      "Requirement already satisfied: pandas>=1.2 in c:\\users\\ntc\\appdata\\local\\programs\\python\\python39\\lib\\site-packages (from seaborn) (2.3.0)\n",
      "Requirement already satisfied: numpy!=1.24.0,>=1.20 in c:\\users\\ntc\\appdata\\local\\programs\\python\\python39\\lib\\site-packages (from seaborn) (1.26.4)\n",
      "Requirement already satisfied: contourpy>=1.0.1 in c:\\users\\ntc\\appdata\\local\\programs\\python\\python39\\lib\\site-packages (from matplotlib!=3.6.1,>=3.4->seaborn) (1.3.0)\n",
      "Requirement already satisfied: importlib-resources>=3.2.0 in c:\\users\\ntc\\appdata\\local\\programs\\python\\python39\\lib\\site-packages (from matplotlib!=3.6.1,>=3.4->seaborn) (6.5.2)\n",
      "Requirement already satisfied: pillow>=8 in c:\\users\\ntc\\appdata\\local\\programs\\python\\python39\\lib\\site-packages (from matplotlib!=3.6.1,>=3.4->seaborn) (10.2.0)\n",
      "Requirement already satisfied: pyparsing>=2.3.1 in c:\\users\\ntc\\appdata\\local\\programs\\python\\python39\\lib\\site-packages (from matplotlib!=3.6.1,>=3.4->seaborn) (3.2.3)\n",
      "Requirement already satisfied: fonttools>=4.22.0 in c:\\users\\ntc\\appdata\\local\\programs\\python\\python39\\lib\\site-packages (from matplotlib!=3.6.1,>=3.4->seaborn) (4.59.0)\n",
      "Requirement already satisfied: kiwisolver>=1.3.1 in c:\\users\\ntc\\appdata\\local\\programs\\python\\python39\\lib\\site-packages (from matplotlib!=3.6.1,>=3.4->seaborn) (1.4.7)\n",
      "Requirement already satisfied: packaging>=20.0 in c:\\users\\ntc\\appdata\\local\\programs\\python\\python39\\lib\\site-packages (from matplotlib!=3.6.1,>=3.4->seaborn) (24.2)\n",
      "Requirement already satisfied: cycler>=0.10 in c:\\users\\ntc\\appdata\\local\\programs\\python\\python39\\lib\\site-packages (from matplotlib!=3.6.1,>=3.4->seaborn) (0.12.1)\n",
      "Requirement already satisfied: python-dateutil>=2.7 in c:\\users\\ntc\\appdata\\roaming\\python\\python39\\site-packages (from matplotlib!=3.6.1,>=3.4->seaborn) (2.9.0.post0)\n",
      "Requirement already satisfied: zipp>=3.1.0 in c:\\users\\ntc\\appdata\\local\\programs\\python\\python39\\lib\\site-packages (from importlib-resources>=3.2.0->matplotlib!=3.6.1,>=3.4->seaborn) (3.21.0)\n",
      "Requirement already satisfied: tzdata>=2022.7 in c:\\users\\ntc\\appdata\\local\\programs\\python\\python39\\lib\\site-packages (from pandas>=1.2->seaborn) (2025.2)\n",
      "Requirement already satisfied: pytz>=2020.1 in c:\\users\\ntc\\appdata\\local\\programs\\python\\python39\\lib\\site-packages (from pandas>=1.2->seaborn) (2025.2)\n",
      "Requirement already satisfied: six>=1.5 in c:\\users\\ntc\\appdata\\roaming\\python\\python39\\site-packages (from python-dateutil>=2.7->matplotlib!=3.6.1,>=3.4->seaborn) (1.17.0)\n",
      "Installing collected packages: seaborn\n",
      "Successfully installed seaborn-0.13.2\n",
      "Note: you may need to restart the kernel to use updated packages.\n"
     ]
    },
    {
     "name": "stderr",
     "output_type": "stream",
     "text": [
      "WARNING: You are using pip version 21.2.3; however, version 25.1.1 is available.\n",
      "You should consider upgrading via the 'c:\\Users\\NTC\\AppData\\Local\\Programs\\Python\\Python39\\python.exe -m pip install --upgrade pip' command.\n"
     ]
    }
   ],
   "source": [
    "pip install seaborn "
   ]
  },
  {
   "cell_type": "code",
   "execution_count": 4,
   "id": "ae049457",
   "metadata": {},
   "outputs": [],
   "source": [
    "import os                          # لإدارة الملفات والمجلدات\n",
    "import numpy as np                # للتعامل مع البيانات العددية\n",
    "import matplotlib.pyplot as plt   # لعرض الصور والرسوم البيانية\n",
    "import seaborn as sns             # لتحسين الرسوم البيانية\n",
    "import tensorflow as tf           # مكتبة الذكاء الاصطناعي الرئيسية\n",
    "from tensorflow.keras.preprocessing.image import ImageDataGenerator  # لتجهيز الصور للتدريب\n",
    "from tensorflow.keras.models import Sequential                       # لبناء النموذج بالتسلسل\n",
    "from tensorflow.keras.layers import Conv2D, MaxPooling2D, Flatten, Dense, Dropout  # مكونات CNN\n",
    "from sklearn.metrics import classification_report, confusion_matrix  # لتقييم النموذج\n"
   ]
  },
  {
   "cell_type": "code",
   "execution_count": 11,
   "id": "cb3de645",
   "metadata": {},
   "outputs": [
    {
     "name": "stdout",
     "output_type": "stream",
     "text": [
      "Found 9957 images belonging to 4 classes.\n",
      "Found 2487 images belonging to 4 classes.\n"
     ]
    }
   ],
   "source": [
    "# نحدد المسار الذي يحتوي على الصور (بعد تحميلها وفك ضغطها من كاجل)\n",
    "base_dir = r\"C:\\Users\\NTC\\Desktop\\mine\\Career\\projects\\10-Blood Cell Images Based Classification\\archive (1)\\dataset2-master\\dataset2-master\\images\"\n",
    "# يحتوي على مجلدات train/ و test/\n",
    "\n",
    "# استخدم ImageDataGenerator لتجهيز الصور\n",
    "train_gen = ImageDataGenerator(rescale=1./255)  # نقسم كل بكسل على 255 لتطبيعه\n",
    "test_gen = ImageDataGenerator(rescale=1./255)\n",
    "\n",
    "# تحميل الصور من مجلدات التصنيفات تلقائيًا\n",
    "train_data = train_gen.flow_from_directory(\n",
    "    base_dir + r'\\train',\n",
    "    target_size=(64, 64),      # تصغير الصورة لسهولة المعالجة\n",
    "    batch_size=32,\n",
    "    class_mode='categorical'   # لأنها متعددة الفئات\n",
    ")\n",
    "\n",
    "test_data = test_gen.flow_from_directory(\n",
    "    base_dir + r'\\test',\n",
    "    target_size=(64, 64),\n",
    "    batch_size=32,\n",
    "    class_mode='categorical'\n",
    ")\n"
   ]
  },
  {
   "cell_type": "code",
   "execution_count": 12,
   "id": "c43c81eb",
   "metadata": {},
   "outputs": [
    {
     "name": "stderr",
     "output_type": "stream",
     "text": [
      "c:\\Users\\NTC\\AppData\\Local\\Programs\\Python\\Python39\\lib\\site-packages\\keras\\src\\layers\\convolutional\\base_conv.py:113: UserWarning: Do not pass an `input_shape`/`input_dim` argument to a layer. When using Sequential models, prefer using an `Input(shape)` object as the first layer in the model instead.\n",
      "  super().__init__(activity_regularizer=activity_regularizer, **kwargs)\n"
     ]
    }
   ],
   "source": [
    "model = Sequential()\n",
    "\n",
    "# الطبقة الأولى: فلتر + تفعيل\n",
    "model.add(Conv2D(32, (3,3), activation='relu', input_shape=(64, 64, 3)))\n",
    "model.add(MaxPooling2D(pool_size=(2,2)))\n",
    "\n",
    "# الطبقة الثانية\n",
    "model.add(Conv2D(64, (3,3), activation='relu'))\n",
    "model.add(MaxPooling2D(pool_size=(2,2)))\n",
    "\n",
    "# الطبقة الثالثة\n",
    "model.add(Conv2D(128, (3,3), activation='relu'))\n",
    "model.add(MaxPooling2D(pool_size=(2,2)))\n",
    "\n",
    "# تحويل المصفوفة إلى طبقة واحدة\n",
    "model.add(Flatten())\n",
    "\n",
    "# طبقة مخفية\n",
    "model.add(Dense(128, activation='relu'))\n",
    "model.add(Dropout(0.5))  # لتقليل overfitting\n",
    "\n",
    "# طبقة الإخراج بعدد الأصناف الأربعة\n",
    "model.add(Dense(4, activation='softmax'))  # softmax لأن لدينا 4 تصنيفات\n",
    "\n",
    "# تجميع النموذج\n",
    "model.compile(optimizer='adam', loss='categorical_crossentropy', metrics=['accuracy'])\n"
   ]
  },
  {
   "cell_type": "code",
   "execution_count": 13,
   "id": "e1022536",
   "metadata": {},
   "outputs": [
    {
     "name": "stderr",
     "output_type": "stream",
     "text": [
      "c:\\Users\\NTC\\AppData\\Local\\Programs\\Python\\Python39\\lib\\site-packages\\keras\\src\\trainers\\data_adapters\\py_dataset_adapter.py:121: UserWarning: Your `PyDataset` class should call `super().__init__(**kwargs)` in its constructor. `**kwargs` can include `workers`, `use_multiprocessing`, `max_queue_size`. Do not pass these arguments to `fit()`, as they will be ignored.\n",
      "  self._warn_if_super_not_called()\n"
     ]
    },
    {
     "name": "stdout",
     "output_type": "stream",
     "text": [
      "Epoch 1/10\n",
      "\u001b[1m312/312\u001b[0m \u001b[32m━━━━━━━━━━━━━━━━━━━━\u001b[0m\u001b[37m\u001b[0m \u001b[1m515s\u001b[0m 2s/step - accuracy: 0.2626 - loss: 1.3863 - val_accuracy: 0.3989 - val_loss: 1.2040\n",
      "Epoch 2/10\n",
      "\u001b[1m312/312\u001b[0m \u001b[32m━━━━━━━━━━━━━━━━━━━━\u001b[0m\u001b[37m\u001b[0m \u001b[1m133s\u001b[0m 425ms/step - accuracy: 0.4522 - loss: 1.1535 - val_accuracy: 0.6184 - val_loss: 0.8681\n",
      "Epoch 3/10\n",
      "\u001b[1m312/312\u001b[0m \u001b[32m━━━━━━━━━━━━━━━━━━━━\u001b[0m\u001b[37m\u001b[0m \u001b[1m140s\u001b[0m 448ms/step - accuracy: 0.6436 - loss: 0.8173 - val_accuracy: 0.7093 - val_loss: 0.6238\n",
      "Epoch 4/10\n",
      "\u001b[1m312/312\u001b[0m \u001b[32m━━━━━━━━━━━━━━━━━━━━\u001b[0m\u001b[37m\u001b[0m \u001b[1m118s\u001b[0m 369ms/step - accuracy: 0.7079 - loss: 0.6390 - val_accuracy: 0.7053 - val_loss: 0.5751\n",
      "Epoch 5/10\n",
      "\u001b[1m312/312\u001b[0m \u001b[32m━━━━━━━━━━━━━━━━━━━━\u001b[0m\u001b[37m\u001b[0m \u001b[1m95s\u001b[0m 305ms/step - accuracy: 0.7483 - loss: 0.5440 - val_accuracy: 0.6639 - val_loss: 0.9963\n",
      "Epoch 6/10\n",
      "\u001b[1m312/312\u001b[0m \u001b[32m━━━━━━━━━━━━━━━━━━━━\u001b[0m\u001b[37m\u001b[0m \u001b[1m136s\u001b[0m 435ms/step - accuracy: 0.7797 - loss: 0.5013 - val_accuracy: 0.7471 - val_loss: 0.5925\n",
      "Epoch 7/10\n",
      "\u001b[1m312/312\u001b[0m \u001b[32m━━━━━━━━━━━━━━━━━━━━\u001b[0m\u001b[37m\u001b[0m \u001b[1m132s\u001b[0m 423ms/step - accuracy: 0.8211 - loss: 0.4120 - val_accuracy: 0.7696 - val_loss: 0.6024\n",
      "Epoch 8/10\n",
      "\u001b[1m312/312\u001b[0m \u001b[32m━━━━━━━━━━━━━━━━━━━━\u001b[0m\u001b[37m\u001b[0m \u001b[1m135s\u001b[0m 434ms/step - accuracy: 0.8418 - loss: 0.3581 - val_accuracy: 0.7660 - val_loss: 0.6035\n",
      "Epoch 9/10\n",
      "\u001b[1m312/312\u001b[0m \u001b[32m━━━━━━━━━━━━━━━━━━━━\u001b[0m\u001b[37m\u001b[0m \u001b[1m135s\u001b[0m 433ms/step - accuracy: 0.8574 - loss: 0.3334 - val_accuracy: 0.7600 - val_loss: 0.5208\n",
      "Epoch 10/10\n",
      "\u001b[1m312/312\u001b[0m \u001b[32m━━━━━━━━━━━━━━━━━━━━\u001b[0m\u001b[37m\u001b[0m \u001b[1m133s\u001b[0m 425ms/step - accuracy: 0.8694 - loss: 0.3010 - val_accuracy: 0.7491 - val_loss: 0.5983\n"
     ]
    }
   ],
   "source": [
    "history = model.fit(\n",
    "    train_data,\n",
    "    validation_data=test_data,\n",
    "    epochs=10\n",
    ")\n"
   ]
  },
  {
   "cell_type": "code",
   "execution_count": 14,
   "id": "b3630ecf",
   "metadata": {},
   "outputs": [
    {
     "name": "stdout",
     "output_type": "stream",
     "text": [
      "\u001b[1m78/78\u001b[0m \u001b[32m━━━━━━━━━━━━━━━━━━━━\u001b[0m\u001b[37m\u001b[0m \u001b[1m6s\u001b[0m 71ms/step - accuracy: 0.7579 - loss: 0.5545\n",
      "Loss: 0.5983, Accuracy: 0.7491\n"
     ]
    }
   ],
   "source": [
    "# التقييم على بيانات الاختبار\n",
    "loss, acc = model.evaluate(test_data)\n",
    "print(f\"Loss: {loss:.4f}, Accuracy: {acc:.4f}\")\n"
   ]
  },
  {
   "cell_type": "code",
   "execution_count": null,
   "id": "fc208c23",
   "metadata": {},
   "outputs": [
    {
     "data": {
      "image/png": "[encoded data removed]",
      "text/plain": [
       "<Figure size 640x480 with 1 Axes>"
      ]
     },
     "metadata": {},
     "output_type": "display_data"
    }
   ],
   "source": [
    "plt.plot(history.history['accuracy'], label='Train Accuracy')\n",
    "plt.plot(history.history['val_accuracy'], label='Validation Accuracy')\n",
    "plt.xlabel('Epoch')\n",
    "plt.ylabel('Accuracy')\n",
    "plt.legend()\n",
    "plt.title('Model Accuracy Over Epochs')\n",
    "plt.show()\n"
   ]
  },
  {
   "cell_type": "code",
   "execution_count": 1,
   "id": "4a177b36",
   "metadata": {},
   "outputs": [
    {
     "ename": "NameError",
     "evalue": "name 'model' is not defined",
     "output_type": "error",
     "traceback": [
      "\u001b[1;31m---------------------------------------------------------------------------\u001b[0m",
      "\u001b[1;31mNameError\u001b[0m                                 Traceback (most recent call last)",
      "Cell \u001b[1;32mIn[1], line 1\u001b[0m\n\u001b[1;32m----> 1\u001b[0m \u001b[43mmodel\u001b[49m\u001b[38;5;241m.\u001b[39msave(\u001b[38;5;124m'\u001b[39m\u001b[38;5;124mblood_cell_classifier.h5\u001b[39m\u001b[38;5;124m'\u001b[39m)  \u001b[38;5;66;03m# حفظ النموذج بامتداد H5\u001b[39;00m\n",
      "\u001b[1;31mNameError\u001b[0m: name 'model' is not defined"
     ]
    }
   ],
   "source": [
    "model.save('blood_cell_classifier.h5')  # حفظ النموذج بامتداد H5\n"
   ]
  },
  {
   "cell_type": "code",
   "execution_count": 20,
   "id": "64770fdd",
   "metadata": {},
   "outputs": [
    {
     "name": "stdout",
     "output_type": "stream",
     "text": [
      "\u001b[1m1/1\u001b[0m \u001b[32m━━━━━━━━━━━━━━━━━━━━\u001b[0m\u001b[37m\u001b[0m \u001b[1m0s\u001b[0m 366ms/step\n",
      "Predicted Class: MONOCYTE\n"
     ]
    }
   ],
   "source": [
    "from tensorflow.keras.preprocessing import image\n",
    "# تحميل صورة جديدة من بيانات الاختبار (تأكد أن الصورة موجودة فعلاً في هذا المسار)\n",
    "img_path = r\"C:\\Users\\NTC\\Desktop\\mine\\Career\\projects\\10-Blood Cell Images Based Classification\\archive (1)\\dataset2-master\\dataset2-master\\images\\TEST\\MONOCYTE\\_0_251.jpeg\"\n",
    "img = image.load_img(img_path, target_size=(64, 64))\n",
    "\n",
    "# تجهيز الصورة بنفس طريقة التدريب\n",
    "img_array = image.img_to_array(img)\n",
    "img_array = np.expand_dims(img_array, axis=0)\n",
    "img_array = img_array / 255.0\n",
    "\n",
    "# التنبؤ باستخدام النموذج المدرب\n",
    "prediction = model.predict(img_array)\n",
    "class_index = np.argmax(prediction)\n",
    "\n",
    "# عرض اسم الفئة المتوقعة\n",
    "labels = list(train_data.class_indices.keys())\n",
    "print(\"Predicted Class:\", labels[class_index])\n"
   ]
  },
  {
   "cell_type": "code",
   "execution_count": null,
   "id": "dab8ef26",
   "metadata": {},
   "outputs": [],
   "source": []
  }
 ],
 "metadata": {
  "kernelspec": {
   "display_name": "Python 3",
   "language": "python",
   "name": "python3"
  },
  "language_info": {
   "codemirror_mode": {
    "name": "ipython",
    "version": 3
   },
   "file_extension": ".py",
   "mimetype": "text/x-python",
   "name": "python",
   "nbconvert_exporter": "python",
   "pygments_lexer": "ipython3",
   "version": "3.9.7"
  }
 },
 "nbformat": 4,
 "nbformat_minor": 5
}
